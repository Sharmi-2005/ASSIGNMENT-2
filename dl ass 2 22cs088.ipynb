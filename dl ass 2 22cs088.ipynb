{
  "metadata": {
    "kernelspec": {
      "name": "python",
      "display_name": "Python (Pyodide)",
      "language": "python"
    },
    "language_info": {
      "codemirror_mode": {
        "name": "python",
        "version": 3
      },
      "file_extension": ".py",
      "mimetype": "text/x-python",
      "name": "python",
      "nbconvert_exporter": "python",
      "pygments_lexer": "ipython3",
      "version": "3.8"
    }
  },
  "nbformat_minor": 4,
  "nbformat": 4,
  "cells": [
    {
      "cell_type": "code",
      "source": "# Segment 1: Import Libraries\nimport torch\nimport torch.nn as nn\nimport torch.optim as optim\nimport torchvision\nimport torchvision.transforms as transforms\nimport matplotlib.pyplot as plt\n\n# Segment 2: Define the CNN Model\nclass CNNModel(nn.Module):\n    def __init__(self):\n        super(CNNModel, self).__init__()\n        self.conv1 = nn.Conv2d(1, 32, kernel_size=3, padding=1)\n        self.conv2 = nn.Conv2d(32, 64, kernel_size=3, padding=1)\n        self.fc1 = nn.Linear(64 * 7 * 7, 128)\n        self.fc2 = nn.Linear(128, 10)\n        self.se = nn.SELU()\n\n    def forward(self, x):\n        x = self.se(self.conv1(x))\n        x = nn.MaxPool2d(2)(x)\n        x = self.se(self.conv2(x))\n        x = nn.MaxPool2d(2)(x)\n        x = x.view(x.size(0), -1)  # Flatten\n        x = self.se(self.fc1(x))\n        x = self.fc2(x)\n        return x\n\n# Segment 3: Load the MNIST Dataset\ntransform = transforms.Compose([transforms.ToTensor()])\ntrainset = torchvision.datasets.MNIST(root='./data', train=True, download=True, transform=transform)\ntrainloader = torch.utils.data.DataLoader(trainset, batch_size=64, shuffle=True)\n\n# Segment 4: Initialize Model, Loss Function, and Optimizer\nmodel = CNNModel()\ncriterion = nn.CrossEntropyLoss()\noptimizer = optim.Adam(model.parameters(), lr=0.001)\n\n# Segment 5: Train the Model\nnum_epochs = 5\nlosses = []\nfor epoch in range(num_epochs):\n    running_loss = 0.0\n    for images, labels in trainloader:\n        optimizer.zero_grad()\n        outputs = model(images)\n        loss = criterion(outputs, labels)\n        loss.backward()\n        optimizer.step()\n        running_loss += loss.item()\n    epoch_loss = running_loss / len(trainloader)\n    losses.append(epoch_loss)\n    print(f'Epoch [{epoch+1}/{num_epochs}], Loss: {epoch_loss:.4f}')\n\n# Segment 6: Plot the Training Loss\nplt.plot(losses)\nplt.title('Training Loss over Epochs')\nplt.xlabel('Epochs')\nplt.ylabel('Loss')\nplt.show()\n",
      "metadata": {
        "trusted": true
      },
      "outputs": [],
      "execution_count": null
    }
  ]
}